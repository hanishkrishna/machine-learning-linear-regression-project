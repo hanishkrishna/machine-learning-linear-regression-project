{
 "cells": [
  {
   "cell_type": "code",
   "execution_count": 1,
   "id": "32a3ddc5",
   "metadata": {
    "_cell_guid": "b1076dfc-b9ad-4769-8c92-a6c4dae69d19",
    "_uuid": "8f2839f25d086af736a60e9eeb907d3b93b6e0e5",
    "execution": {
     "iopub.execute_input": "2021-07-24T09:26:30.624690Z",
     "iopub.status.busy": "2021-07-24T09:26:30.622979Z",
     "iopub.status.idle": "2021-07-24T09:26:30.646774Z",
     "shell.execute_reply": "2021-07-24T09:26:30.646052Z",
     "shell.execute_reply.started": "2021-07-24T09:16:08.293249Z"
    },
    "papermill": {
     "duration": 0.041767,
     "end_time": "2021-07-24T09:26:30.646935",
     "exception": false,
     "start_time": "2021-07-24T09:26:30.605168",
     "status": "completed"
    },
    "tags": []
   },
   "outputs": [
    {
     "name": "stdout",
     "output_type": "stream",
     "text": [
      "/kaggle/input/linear-regression-dataset/Linear Regression - Sheet1.csv\n"
     ]
    }
   ],
   "source": [
    "# This Python 3 environment comes with many helpful analytics libraries installed\n",
    "# It is defined by the kaggle/python Docker image: https://github.com/kaggle/docker-python\n",
    "# For example, here's several helpful packages to load\n",
    "\n",
    "import numpy as np # linear algebra\n",
    "import pandas as pd # data processing, CSV file I/O (e.g. pd.read_csv)\n",
    "\n",
    "# Input data files are available in the read-only \"../input/\" directory\n",
    "# For example, running this (by clicking run or pressing Shift+Enter) will list all files under the input directory\n",
    "\n",
    "import os\n",
    "for dirname, _, filenames in os.walk('/kaggle/input'):\n",
    "    for filename in filenames:\n",
    "        print(os.path.join(dirname, filename))\n",
    "\n",
    "# You can write up to 20GB to the current directory (/kaggle/working/) that gets preserved as output when you create a version using \"Save & Run All\" \n",
    "# You can also write temporary files to /kaggle/temp/, but they won't be saved outside of the current session"
   ]
  },
  {
   "cell_type": "code",
   "execution_count": 2,
   "id": "95eb6281",
   "metadata": {
    "execution": {
     "iopub.execute_input": "2021-07-24T09:26:30.678530Z",
     "iopub.status.busy": "2021-07-24T09:26:30.677913Z",
     "iopub.status.idle": "2021-07-24T09:26:30.782736Z",
     "shell.execute_reply": "2021-07-24T09:26:30.783483Z",
     "shell.execute_reply.started": "2021-07-24T09:17:11.621398Z"
    },
    "papermill": {
     "duration": 0.121365,
     "end_time": "2021-07-24T09:26:30.783700",
     "exception": false,
     "start_time": "2021-07-24T09:26:30.662335",
     "status": "completed"
    },
    "tags": []
   },
   "outputs": [],
   "source": [
    "data=pd.read_csv(\"/kaggle/input/linear-regression-dataset/Linear Regression - Sheet1.csv\")"
   ]
  },
  {
   "cell_type": "code",
   "execution_count": 3,
   "id": "620fadb6",
   "metadata": {
    "execution": {
     "iopub.execute_input": "2021-07-24T09:26:30.831900Z",
     "iopub.status.busy": "2021-07-24T09:26:30.830858Z",
     "iopub.status.idle": "2021-07-24T09:26:30.851038Z",
     "shell.execute_reply": "2021-07-24T09:26:30.850395Z",
     "shell.execute_reply.started": "2021-07-24T09:17:21.088781Z"
    },
    "papermill": {
     "duration": 0.048448,
     "end_time": "2021-07-24T09:26:30.851187",
     "exception": false,
     "start_time": "2021-07-24T09:26:30.802739",
     "status": "completed"
    },
    "tags": []
   },
   "outputs": [
    {
     "data": {
      "text/html": [
       "<div>\n",
       "<style scoped>\n",
       "    .dataframe tbody tr th:only-of-type {\n",
       "        vertical-align: middle;\n",
       "    }\n",
       "\n",
       "    .dataframe tbody tr th {\n",
       "        vertical-align: top;\n",
       "    }\n",
       "\n",
       "    .dataframe thead th {\n",
       "        text-align: right;\n",
       "    }\n",
       "</style>\n",
       "<table border=\"1\" class=\"dataframe\">\n",
       "  <thead>\n",
       "    <tr style=\"text-align: right;\">\n",
       "      <th></th>\n",
       "      <th>X</th>\n",
       "      <th>Y</th>\n",
       "    </tr>\n",
       "  </thead>\n",
       "  <tbody>\n",
       "    <tr>\n",
       "      <th>0</th>\n",
       "      <td>1</td>\n",
       "      <td>3.888889</td>\n",
       "    </tr>\n",
       "    <tr>\n",
       "      <th>1</th>\n",
       "      <td>2</td>\n",
       "      <td>4.555556</td>\n",
       "    </tr>\n",
       "    <tr>\n",
       "      <th>2</th>\n",
       "      <td>3</td>\n",
       "      <td>5.222222</td>\n",
       "    </tr>\n",
       "    <tr>\n",
       "      <th>3</th>\n",
       "      <td>4</td>\n",
       "      <td>5.888889</td>\n",
       "    </tr>\n",
       "    <tr>\n",
       "      <th>4</th>\n",
       "      <td>5</td>\n",
       "      <td>6.555556</td>\n",
       "    </tr>\n",
       "  </tbody>\n",
       "</table>\n",
       "</div>"
      ],
      "text/plain": [
       "   X         Y\n",
       "0  1  3.888889\n",
       "1  2  4.555556\n",
       "2  3  5.222222\n",
       "3  4  5.888889\n",
       "4  5  6.555556"
      ]
     },
     "execution_count": 3,
     "metadata": {},
     "output_type": "execute_result"
    }
   ],
   "source": [
    "data.head()"
   ]
  },
  {
   "cell_type": "code",
   "execution_count": 4,
   "id": "7583bb1e",
   "metadata": {
    "execution": {
     "iopub.execute_input": "2021-07-24T09:26:30.884616Z",
     "iopub.status.busy": "2021-07-24T09:26:30.884005Z",
     "iopub.status.idle": "2021-07-24T09:26:30.887627Z",
     "shell.execute_reply": "2021-07-24T09:26:30.887059Z",
     "shell.execute_reply.started": "2021-07-24T09:17:46.563489Z"
    },
    "papermill": {
     "duration": 0.023346,
     "end_time": "2021-07-24T09:26:30.887774",
     "exception": false,
     "start_time": "2021-07-24T09:26:30.864428",
     "status": "completed"
    },
    "tags": []
   },
   "outputs": [
    {
     "data": {
      "text/plain": [
       "X    0\n",
       "Y    0\n",
       "dtype: int64"
      ]
     },
     "execution_count": 4,
     "metadata": {},
     "output_type": "execute_result"
    }
   ],
   "source": [
    "data.isnull().sum()"
   ]
  },
  {
   "cell_type": "code",
   "execution_count": 5,
   "id": "06012c21",
   "metadata": {
    "execution": {
     "iopub.execute_input": "2021-07-24T09:26:30.918200Z",
     "iopub.status.busy": "2021-07-24T09:26:30.917311Z",
     "iopub.status.idle": "2021-07-24T09:26:30.923910Z",
     "shell.execute_reply": "2021-07-24T09:26:30.924353Z",
     "shell.execute_reply.started": "2021-07-24T09:18:15.956841Z"
    },
    "papermill": {
     "duration": 0.023257,
     "end_time": "2021-07-24T09:26:30.924550",
     "exception": false,
     "start_time": "2021-07-24T09:26:30.901293",
     "status": "completed"
    },
    "tags": []
   },
   "outputs": [],
   "source": [
    "X=data['X']\n",
    "y=data['Y']"
   ]
  },
  {
   "cell_type": "code",
   "execution_count": 6,
   "id": "8f352ced",
   "metadata": {
    "execution": {
     "iopub.execute_input": "2021-07-24T09:26:30.958921Z",
     "iopub.status.busy": "2021-07-24T09:26:30.958032Z",
     "iopub.status.idle": "2021-07-24T09:26:30.962274Z",
     "shell.execute_reply": "2021-07-24T09:26:30.961624Z",
     "shell.execute_reply.started": "2021-07-24T09:18:23.787535Z"
    },
    "papermill": {
     "duration": 0.024117,
     "end_time": "2021-07-24T09:26:30.962435",
     "exception": false,
     "start_time": "2021-07-24T09:26:30.938318",
     "status": "completed"
    },
    "tags": []
   },
   "outputs": [
    {
     "data": {
      "text/plain": [
       "0    1\n",
       "1    2\n",
       "2    3\n",
       "3    4\n",
       "4    5\n",
       "Name: X, dtype: int64"
      ]
     },
     "execution_count": 6,
     "metadata": {},
     "output_type": "execute_result"
    }
   ],
   "source": [
    "X.head()\n"
   ]
  },
  {
   "cell_type": "code",
   "execution_count": 7,
   "id": "b138f3f1",
   "metadata": {
    "execution": {
     "iopub.execute_input": "2021-07-24T09:26:30.996529Z",
     "iopub.status.busy": "2021-07-24T09:26:30.995934Z",
     "iopub.status.idle": "2021-07-24T09:26:30.998636Z",
     "shell.execute_reply": "2021-07-24T09:26:30.999111Z",
     "shell.execute_reply.started": "2021-07-24T09:18:33.942558Z"
    },
    "papermill": {
     "duration": 0.022945,
     "end_time": "2021-07-24T09:26:30.999269",
     "exception": false,
     "start_time": "2021-07-24T09:26:30.976324",
     "status": "completed"
    },
    "tags": []
   },
   "outputs": [
    {
     "data": {
      "text/plain": [
       "0    3.888889\n",
       "1    4.555556\n",
       "2    5.222222\n",
       "3    5.888889\n",
       "4    6.555556\n",
       "Name: Y, dtype: float64"
      ]
     },
     "execution_count": 7,
     "metadata": {},
     "output_type": "execute_result"
    }
   ],
   "source": [
    "y.head()"
   ]
  },
  {
   "cell_type": "code",
   "execution_count": 8,
   "id": "92501589",
   "metadata": {
    "execution": {
     "iopub.execute_input": "2021-07-24T09:26:31.030206Z",
     "iopub.status.busy": "2021-07-24T09:26:31.029624Z",
     "iopub.status.idle": "2021-07-24T09:26:32.060993Z",
     "shell.execute_reply": "2021-07-24T09:26:32.060333Z",
     "shell.execute_reply.started": "2021-07-24T09:19:08.205968Z"
    },
    "papermill": {
     "duration": 1.047605,
     "end_time": "2021-07-24T09:26:32.061134",
     "exception": false,
     "start_time": "2021-07-24T09:26:31.013529",
     "status": "completed"
    },
    "tags": []
   },
   "outputs": [],
   "source": [
    "from sklearn.linear_model import LinearRegression"
   ]
  },
  {
   "cell_type": "code",
   "execution_count": 9,
   "id": "6e28aac9",
   "metadata": {
    "execution": {
     "iopub.execute_input": "2021-07-24T09:26:32.093620Z",
     "iopub.status.busy": "2021-07-24T09:26:32.093020Z",
     "iopub.status.idle": "2021-07-24T09:26:32.095693Z",
     "shell.execute_reply": "2021-07-24T09:26:32.096144Z",
     "shell.execute_reply.started": "2021-07-24T09:19:20.133265Z"
    },
    "papermill": {
     "duration": 0.02097,
     "end_time": "2021-07-24T09:26:32.096304",
     "exception": false,
     "start_time": "2021-07-24T09:26:32.075334",
     "status": "completed"
    },
    "tags": []
   },
   "outputs": [],
   "source": [
    "model = LinearRegression()"
   ]
  },
  {
   "cell_type": "code",
   "execution_count": 10,
   "id": "f634a110",
   "metadata": {
    "execution": {
     "iopub.execute_input": "2021-07-24T09:26:32.127839Z",
     "iopub.status.busy": "2021-07-24T09:26:32.126876Z",
     "iopub.status.idle": "2021-07-24T09:26:32.130590Z",
     "shell.execute_reply": "2021-07-24T09:26:32.131035Z",
     "shell.execute_reply.started": "2021-07-24T09:20:17.806134Z"
    },
    "papermill": {
     "duration": 0.020724,
     "end_time": "2021-07-24T09:26:32.131195",
     "exception": false,
     "start_time": "2021-07-24T09:26:32.110471",
     "status": "completed"
    },
    "tags": []
   },
   "outputs": [],
   "source": [
    "from sklearn.model_selection import train_test_split"
   ]
  },
  {
   "cell_type": "code",
   "execution_count": 11,
   "id": "1d432e3b",
   "metadata": {
    "execution": {
     "iopub.execute_input": "2021-07-24T09:26:32.162019Z",
     "iopub.status.busy": "2021-07-24T09:26:32.161151Z",
     "iopub.status.idle": "2021-07-24T09:26:32.166770Z",
     "shell.execute_reply": "2021-07-24T09:26:32.166273Z",
     "shell.execute_reply.started": "2021-07-24T09:20:42.990960Z"
    },
    "papermill": {
     "duration": 0.021949,
     "end_time": "2021-07-24T09:26:32.166903",
     "exception": false,
     "start_time": "2021-07-24T09:26:32.144954",
     "status": "completed"
    },
    "tags": []
   },
   "outputs": [],
   "source": [
    "X_train, X_test, y_train, y_test = train_test_split(X, y, test_size=0.3)"
   ]
  },
  {
   "cell_type": "code",
   "execution_count": 12,
   "id": "59bd612c",
   "metadata": {
    "execution": {
     "iopub.execute_input": "2021-07-24T09:26:32.199162Z",
     "iopub.status.busy": "2021-07-24T09:26:32.198593Z",
     "iopub.status.idle": "2021-07-24T09:26:32.200450Z",
     "shell.execute_reply": "2021-07-24T09:26:32.200915Z",
     "shell.execute_reply.started": "2021-07-24T09:21:55.115805Z"
    },
    "papermill": {
     "duration": 0.020316,
     "end_time": "2021-07-24T09:26:32.201076",
     "exception": false,
     "start_time": "2021-07-24T09:26:32.180760",
     "status": "completed"
    },
    "tags": []
   },
   "outputs": [],
   "source": [
    "X_train=np.array(X_train)\n",
    "y_train=np.array(y_train)"
   ]
  },
  {
   "cell_type": "code",
   "execution_count": 13,
   "id": "cb45c199",
   "metadata": {
    "execution": {
     "iopub.execute_input": "2021-07-24T09:26:32.231677Z",
     "iopub.status.busy": "2021-07-24T09:26:32.230998Z",
     "iopub.status.idle": "2021-07-24T09:26:32.399615Z",
     "shell.execute_reply": "2021-07-24T09:26:32.398999Z",
     "shell.execute_reply.started": "2021-07-24T09:21:56.247715Z"
    },
    "papermill": {
     "duration": 0.184907,
     "end_time": "2021-07-24T09:26:32.399752",
     "exception": false,
     "start_time": "2021-07-24T09:26:32.214845",
     "status": "completed"
    },
    "tags": []
   },
   "outputs": [
    {
     "data": {
      "text/plain": [
       "LinearRegression()"
      ]
     },
     "execution_count": 13,
     "metadata": {},
     "output_type": "execute_result"
    }
   ],
   "source": [
    "model.fit(X_train.reshape(-1,1),y_train.reshape(-1,1))"
   ]
  },
  {
   "cell_type": "code",
   "execution_count": 14,
   "id": "9bb46677",
   "metadata": {
    "execution": {
     "iopub.execute_input": "2021-07-24T09:26:32.434411Z",
     "iopub.status.busy": "2021-07-24T09:26:32.433467Z",
     "iopub.status.idle": "2021-07-24T09:26:32.437722Z",
     "shell.execute_reply": "2021-07-24T09:26:32.437079Z",
     "shell.execute_reply.started": "2021-07-24T09:22:39.824392Z"
    },
    "papermill": {
     "duration": 0.023978,
     "end_time": "2021-07-24T09:26:32.437862",
     "exception": false,
     "start_time": "2021-07-24T09:26:32.413884",
     "status": "completed"
    },
    "tags": []
   },
   "outputs": [
    {
     "data": {
      "text/plain": [
       "0.895281252324049"
      ]
     },
     "execution_count": 14,
     "metadata": {},
     "output_type": "execute_result"
    }
   ],
   "source": [
    "model.score(X_train.reshape(-1,1),y_train.reshape(-1,1))"
   ]
  },
  {
   "cell_type": "code",
   "execution_count": 15,
   "id": "8d92b515",
   "metadata": {
    "execution": {
     "iopub.execute_input": "2021-07-24T09:26:32.471530Z",
     "iopub.status.busy": "2021-07-24T09:26:32.470940Z",
     "iopub.status.idle": "2021-07-24T09:26:32.473162Z",
     "shell.execute_reply": "2021-07-24T09:26:32.473591Z",
     "shell.execute_reply.started": "2021-07-24T09:23:22.504033Z"
    },
    "papermill": {
     "duration": 0.021083,
     "end_time": "2021-07-24T09:26:32.473755",
     "exception": false,
     "start_time": "2021-07-24T09:26:32.452672",
     "status": "completed"
    },
    "tags": []
   },
   "outputs": [],
   "source": [
    "y_test=np.array(y_test)\n",
    "X_test= np.array(X_test)"
   ]
  },
  {
   "cell_type": "code",
   "execution_count": 16,
   "id": "985104f9",
   "metadata": {
    "execution": {
     "iopub.execute_input": "2021-07-24T09:26:32.504967Z",
     "iopub.status.busy": "2021-07-24T09:26:32.504396Z",
     "iopub.status.idle": "2021-07-24T09:26:32.509146Z",
     "shell.execute_reply": "2021-07-24T09:26:32.508697Z",
     "shell.execute_reply.started": "2021-07-24T09:24:16.329323Z"
    },
    "papermill": {
     "duration": 0.021307,
     "end_time": "2021-07-24T09:26:32.509277",
     "exception": false,
     "start_time": "2021-07-24T09:26:32.487970",
     "status": "completed"
    },
    "tags": []
   },
   "outputs": [],
   "source": [
    "y_pred = model.predict(X_test.reshape(-1,1))"
   ]
  },
  {
   "cell_type": "code",
   "execution_count": 17,
   "id": "02a5ce2d",
   "metadata": {
    "execution": {
     "iopub.execute_input": "2021-07-24T09:26:32.544537Z",
     "iopub.status.busy": "2021-07-24T09:26:32.543904Z",
     "iopub.status.idle": "2021-07-24T09:26:32.546951Z",
     "shell.execute_reply": "2021-07-24T09:26:32.547444Z",
     "shell.execute_reply.started": "2021-07-24T09:24:20.918858Z"
    },
    "papermill": {
     "duration": 0.023805,
     "end_time": "2021-07-24T09:26:32.547649",
     "exception": false,
     "start_time": "2021-07-24T09:26:32.523844",
     "status": "completed"
    },
    "tags": []
   },
   "outputs": [
    {
     "data": {
      "text/plain": [
       "array([[146.00603768],\n",
       "       [121.42110137],\n",
       "       [ 56.4916542 ],\n",
       "       [ 57.12203718],\n",
       "       [159.87446329],\n",
       "       [ 93.68425015],\n",
       "       [130.87684611],\n",
       "       [ 39.47131368],\n",
       "       [111.33497366],\n",
       "       [  9.84331351],\n",
       "       [129.61608014],\n",
       "       [ 89.90195226],\n",
       "       [ 73.51199472],\n",
       "       [168.06944206],\n",
       "       [115.11727155],\n",
       "       [ 13.6256114 ],\n",
       "       [110.07420769],\n",
       "       [ 44.51437754],\n",
       "       [148.52756961],\n",
       "       [145.3756547 ],\n",
       "       [ 46.40552648],\n",
       "       [ 98.72731401],\n",
       "       [126.46416523],\n",
       "       [137.18067593],\n",
       "       [ 55.23088823],\n",
       "       [138.4414419 ],\n",
       "       [116.37803752],\n",
       "       [146.63642067],\n",
       "       [ 34.42824982],\n",
       "       [ 91.16271822],\n",
       "       [132.76799506],\n",
       "       [143.48450575],\n",
       "       [133.39837804],\n",
       "       [174.37327189],\n",
       "       [ 58.38280315],\n",
       "       [173.7428889 ],\n",
       "       [115.74765453],\n",
       "       [ 43.88399455],\n",
       "       [156.72254838],\n",
       "       [ 35.68901578],\n",
       "       [ 77.9246756 ],\n",
       "       [ 86.75003735],\n",
       "       [105.03114384],\n",
       "       [ 53.33973929],\n",
       "       [172.48212294],\n",
       "       [175.63403785],\n",
       "       [ 67.83854788],\n",
       "       [104.40076085],\n",
       "       [ 82.96773946],\n",
       "       [ 91.79310121],\n",
       "       [156.0921654 ],\n",
       "       [ 86.11965437],\n",
       "       [142.22373979],\n",
       "       [189.50246346],\n",
       "       [ 84.8588884 ],\n",
       "       [113.85650559],\n",
       "       [ 96.20578208],\n",
       "       [190.76322943],\n",
       "       [ 24.3421221 ],\n",
       "       [108.81344173],\n",
       "       [134.659144  ],\n",
       "       [ 80.44620753],\n",
       "       [144.11488874],\n",
       "       [154.83139944],\n",
       "       [186.98093153],\n",
       "       [ 35.0586328 ],\n",
       "       [168.69982505],\n",
       "       [ 25.60288807],\n",
       "       [191.39361241],\n",
       "       [ 33.16748385],\n",
       "       [ 23.71173912],\n",
       "       [ 41.36246262],\n",
       "       [157.98331435],\n",
       "       [ 63.425867  ],\n",
       "       [109.44382471],\n",
       "       [106.92229278],\n",
       "       [ 16.14714333],\n",
       "       [152.30986751],\n",
       "       [ 26.86365403],\n",
       "       [ 51.44859034],\n",
       "       [188.87208048],\n",
       "       [132.13761207],\n",
       "       [160.50484628],\n",
       "       [ 65.31701595],\n",
       "       [101.87922892],\n",
       "       [ 50.81820736],\n",
       "       [136.55029295],\n",
       "       [123.9426333 ],\n",
       "       [ 48.29667543],\n",
       "       [175.00365487]])"
      ]
     },
     "execution_count": 17,
     "metadata": {},
     "output_type": "execute_result"
    }
   ],
   "source": [
    "y_pred"
   ]
  },
  {
   "cell_type": "code",
   "execution_count": 18,
   "id": "f6bafd6e",
   "metadata": {
    "execution": {
     "iopub.execute_input": "2021-07-24T09:26:32.580322Z",
     "iopub.status.busy": "2021-07-24T09:26:32.579737Z",
     "iopub.status.idle": "2021-07-24T09:26:32.583864Z",
     "shell.execute_reply": "2021-07-24T09:26:32.584328Z",
     "shell.execute_reply.started": "2021-07-24T09:24:48.612973Z"
    },
    "papermill": {
     "duration": 0.022154,
     "end_time": "2021-07-24T09:26:32.584512",
     "exception": false,
     "start_time": "2021-07-24T09:26:32.562358",
     "status": "completed"
    },
    "tags": []
   },
   "outputs": [],
   "source": [
    "import matplotlib.pyplot as plt"
   ]
  },
  {
   "cell_type": "code",
   "execution_count": 19,
   "id": "7f9dd6ab",
   "metadata": {
    "execution": {
     "iopub.execute_input": "2021-07-24T09:26:32.617261Z",
     "iopub.status.busy": "2021-07-24T09:26:32.616614Z",
     "iopub.status.idle": "2021-07-24T09:26:32.858617Z",
     "shell.execute_reply": "2021-07-24T09:26:32.858064Z",
     "shell.execute_reply.started": "2021-07-24T09:25:01.443808Z"
    },
    "papermill": {
     "duration": 0.259351,
     "end_time": "2021-07-24T09:26:32.858769",
     "exception": false,
     "start_time": "2021-07-24T09:26:32.599418",
     "status": "completed"
    },
    "tags": []
   },
   "outputs": [
    {
     "data": {
      "text/plain": [
       "<matplotlib.collections.PathCollection at 0x7fa82eb3f750>"
      ]
     },
     "execution_count": 19,
     "metadata": {},
     "output_type": "execute_result"
    },
    {
     "data": {
      "image/png": "[encoded data removed]",
      "text/plain": [
       "<Figure size 432x288 with 1 Axes>"
      ]
     },
     "metadata": {
      "needs_background": "light"
     },
     "output_type": "display_data"
    }
   ],
   "source": [
    "plt.scatter(y_test,y_pred)"
   ]
  },
  {
   "cell_type": "code",
   "execution_count": null,
   "id": "185a4d2a",
   "metadata": {
    "papermill": {
     "duration": 0.015541,
     "end_time": "2021-07-24T09:26:32.893532",
     "exception": false,
     "start_time": "2021-07-24T09:26:32.877991",
     "status": "completed"
    },
    "tags": []
   },
   "outputs": [],
   "source": []
  }
 ],
 "metadata": {
  "kernelspec": {
   "display_name": "Python 3",
   "language": "python",
   "name": "python3"
  },
  "language_info": {
   "codemirror_mode": {
    "name": "ipython",
    "version": 3
   },
   "file_extension": ".py",
   "mimetype": "text/x-python",
   "name": "python",
   "nbconvert_exporter": "python",
   "pygments_lexer": "ipython3",
   "version": "3.7.10"
  },
  "papermill": {
   "default_parameters": {},
   "duration": 10.542094,
   "end_time": "2021-07-24T09:26:33.618556",
   "environment_variables": {},
   "exception": null,
   "input_path": "__notebook__.ipynb",
   "output_path": "__notebook__.ipynb",
   "parameters": {},
   "start_time": "2021-07-24T09:26:23.076462",
   "version": "2.3.3"
  }
 },
 "nbformat": 4,
 "nbformat_minor": 5
}
